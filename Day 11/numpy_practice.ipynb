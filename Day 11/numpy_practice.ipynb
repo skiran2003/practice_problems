{
 "cells": [
  {
   "cell_type": "code",
   "execution_count": 1,
   "id": "c6fe7f26",
   "metadata": {},
   "outputs": [],
   "source": [
    "import numpy as np"
   ]
  },
  {
   "cell_type": "code",
   "execution_count": 3,
   "id": "4cce711b",
   "metadata": {},
   "outputs": [
    {
     "data": {
      "text/plain": [
       "array([0, 1, 2, 3, 4, 5, 6, 7, 8, 9])"
      ]
     },
     "execution_count": 3,
     "metadata": {},
     "output_type": "execute_result"
    }
   ],
   "source": [
    "a=np.arange(10)\n",
    "a"
   ]
  },
  {
   "cell_type": "code",
   "execution_count": null,
   "id": "4b131ff6",
   "metadata": {},
   "outputs": [
    {
     "name": "stdout",
     "output_type": "stream",
     "text": [
      "2\n",
      "(2, 3)\n",
      "int64\n",
      "6\n",
      "8\n"
     ]
    }
   ],
   "source": [
    "a=np.array([[1,2,3],\n",
    "            [4,5,6]])\n",
    "print(a.ndim) # Number of dimensions of the array\n",
    "print(a.shape) # Number of rows and columns\n",
    "print(a.dtype) # Datatype of the array\n",
    "print(a.size) # Number of elements in the array\n",
    "print(a.itemsize) # Size of the array element in bytes"
   ]
  },
  {
   "cell_type": "code",
   "execution_count": null,
   "id": "d531db05",
   "metadata": {},
   "outputs": [
    {
     "data": {
      "text/plain": [
       "array([[0., 0., 0.],\n",
       "       [0., 0., 0.],\n",
       "       [0., 0., 0.]])"
      ]
     },
     "execution_count": 14,
     "metadata": {},
     "output_type": "execute_result"
    }
   ],
   "source": [
    "a=np.zeros((3,3)) # Prints a 3x3 matrix of zeroes\n",
    "a"
   ]
  },
  {
   "cell_type": "code",
   "execution_count": 18,
   "id": "e7a9632b",
   "metadata": {},
   "outputs": [
    {
     "data": {
      "text/plain": [
       "array([[1., 1., 1., 1.],\n",
       "       [1., 1., 1., 1.]])"
      ]
     },
     "execution_count": 18,
     "metadata": {},
     "output_type": "execute_result"
    }
   ],
   "source": [
    "ones=np.ones((2,4)) # Prints a matrix full of 1's (default float values if no datatype specified)\n",
    "ones"
   ]
  },
  {
   "cell_type": "code",
   "execution_count": 20,
   "id": "1aa05a0a",
   "metadata": {},
   "outputs": [
    {
     "data": {
      "text/plain": [
       "array([[19, 19],\n",
       "       [19, 19],\n",
       "       [19, 19],\n",
       "       [19, 19]])"
      ]
     },
     "execution_count": 20,
     "metadata": {},
     "output_type": "execute_result"
    }
   ],
   "source": [
    "a=np.full((4,2),19,dtype=int) #  Fills the matrix with the given value\n",
    "a"
   ]
  },
  {
   "cell_type": "code",
   "execution_count": 22,
   "id": "c836afce",
   "metadata": {},
   "outputs": [
    {
     "data": {
      "text/plain": [
       "array([[7, 4],\n",
       "       [8, 7],\n",
       "       [9, 3]])"
      ]
     },
     "execution_count": 22,
     "metadata": {},
     "output_type": "execute_result"
    }
   ],
   "source": [
    "# Transposing Matrices\n",
    "a=np.array([[7,8,9],[4,7,3]])\n",
    "transpose=a.T\n",
    "transpose"
   ]
  },
  {
   "cell_type": "code",
   "execution_count": 30,
   "id": "ef0600d5",
   "metadata": {},
   "outputs": [
    {
     "data": {
      "text/plain": [
       "array([[1, 5, 7],\n",
       "       [2, 8, 9]])"
      ]
     },
     "execution_count": 30,
     "metadata": {},
     "output_type": "execute_result"
    }
   ],
   "source": [
    "a=np.array([[1,2],[5,8],[7,9]])\n",
    "swapped=a.swapaxes(1,0)\n",
    "swapped"
   ]
  },
  {
   "cell_type": "code",
   "execution_count": null,
   "id": "ab89bcc6",
   "metadata": {},
   "outputs": [
    {
     "name": "stdout",
     "output_type": "stream",
     "text": [
      "[[1 2 4]\n",
      " [1 4 6]\n",
      " [3 8 7]]\n",
      "[[-0.95215434 -2.62696201]\n",
      " [ 3.64173409  4.46213667]]\n"
     ]
    }
   ],
   "source": [
    "# Random number generation\n",
    "r=np.random.randint(1,10,size=(3,3)) # Generates a 3x3 matrix with random numbers between the given range\n",
    "print(r)\n",
    "n=np.random.normal(1,5,size=(2,2)) # Generates a matrix of random distribution\n",
    "print(n)"
   ]
  },
  {
   "cell_type": "code",
   "execution_count": null,
   "id": "defbeb9e",
   "metadata": {},
   "outputs": [
    {
     "name": "stdout",
     "output_type": "stream",
     "text": [
      "[[23 13]\n",
      " [87 53]]\n"
     ]
    }
   ],
   "source": [
    "# Matrix multiplication\n",
    "matrix_1=np.array([[1,2],[5,6]])\n",
    "matrix_2=np.array([[9,7],[7,3]])\n",
    "mul=np.matmul(matrix_1,matrix_2)\n",
    "print(mul)"
   ]
  },
  {
   "cell_type": "code",
   "execution_count": 35,
   "id": "55127869",
   "metadata": {},
   "outputs": [
    {
     "name": "stdout",
     "output_type": "stream",
     "text": [
      "[[1 2 3]\n",
      " [4 5 6]\n",
      " [7 8 9]]\n"
     ]
    }
   ],
   "source": [
    "# Reshaping a 1-dimensional array to a matrix\n",
    "arr=np.array([1,2,3,4,5,6,7,8,9])\n",
    "res=arr.reshape(3,3)\n",
    "print(res)"
   ]
  },
  {
   "cell_type": "code",
   "execution_count": 36,
   "id": "7fac2035",
   "metadata": {},
   "outputs": [
    {
     "name": "stdout",
     "output_type": "stream",
     "text": [
      "45\n",
      "1\n",
      "9\n",
      "5.0\n"
     ]
    }
   ],
   "source": [
    "# Aggregate functions\n",
    "max=np.max(res)\n",
    "min=np.min(res)\n",
    "sum=np.sum(res)\n",
    "mean=np.mean(res)\n",
    "print(sum)\n",
    "print(min)\n",
    "print(max)\n",
    "print(mean)"
   ]
  }
 ],
 "metadata": {
  "kernelspec": {
   "display_name": "Python 3",
   "language": "python",
   "name": "python3"
  },
  "language_info": {
   "codemirror_mode": {
    "name": "ipython",
    "version": 3
   },
   "file_extension": ".py",
   "mimetype": "text/x-python",
   "name": "python",
   "nbconvert_exporter": "python",
   "pygments_lexer": "ipython3",
   "version": "3.13.1"
  }
 },
 "nbformat": 4,
 "nbformat_minor": 5
}
